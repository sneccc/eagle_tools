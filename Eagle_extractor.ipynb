{
 "cells": [
  {
   "cell_type": "code",
   "execution_count": 2,
   "metadata": {},
   "outputs": [
    {
     "name": "stdout",
     "output_type": "stream",
     "text": [
      "Requirement already satisfied: torch in g:\\anaconda3\\envs\\aes\\lib\\site-packages (from -r requirements.txt (line 1)) (2.2.0+cu121)\n",
      "Requirement already satisfied: transformers in g:\\anaconda3\\envs\\aes\\lib\\site-packages (from -r requirements.txt (line 2)) (4.38.0)\n",
      "Requirement already satisfied: Pillow in g:\\anaconda3\\envs\\aes\\lib\\site-packages (from -r requirements.txt (line 3)) (10.4.0)\n",
      "Requirement already satisfied: opencv-python in g:\\anaconda3\\envs\\aes\\lib\\site-packages (from -r requirements.txt (line 4)) (4.7.0.68)\n",
      "Requirement already satisfied: numpy in g:\\anaconda3\\envs\\aes\\lib\\site-packages (from -r requirements.txt (line 5)) (1.26.4)\n",
      "Requirement already satisfied: tqdm in g:\\anaconda3\\envs\\aes\\lib\\site-packages (from -r requirements.txt (line 6)) (4.66.2)\n",
      "Requirement already satisfied: toml in g:\\anaconda3\\envs\\aes\\lib\\site-packages (from -r requirements.txt (line 7)) (0.10.2)\n",
      "Requirement already satisfied: cairosvg in g:\\anaconda3\\envs\\aes\\lib\\site-packages (from -r requirements.txt (line 8)) (2.7.1)\n",
      "Requirement already satisfied: spandrel in g:\\anaconda3\\envs\\aes\\lib\\site-packages (from -r requirements.txt (line 9)) (0.3.4)\n",
      "Requirement already satisfied: spandrel_extra_arches in g:\\anaconda3\\envs\\aes\\lib\\site-packages (from -r requirements.txt (line 10)) (0.1.1)\n",
      "Requirement already satisfied: filelock in g:\\anaconda3\\envs\\aes\\lib\\site-packages (from torch->-r requirements.txt (line 1)) (3.13.1)\n",
      "Requirement already satisfied: typing-extensions>=4.8.0 in g:\\anaconda3\\envs\\aes\\lib\\site-packages (from torch->-r requirements.txt (line 1)) (4.12.0)\n",
      "Requirement already satisfied: sympy in g:\\anaconda3\\envs\\aes\\lib\\site-packages (from torch->-r requirements.txt (line 1)) (1.12)\n",
      "Requirement already satisfied: networkx in g:\\anaconda3\\envs\\aes\\lib\\site-packages (from torch->-r requirements.txt (line 1)) (3.2.1)\n",
      "Requirement already satisfied: jinja2 in g:\\anaconda3\\envs\\aes\\lib\\site-packages (from torch->-r requirements.txt (line 1)) (3.1.3)\n",
      "Requirement already satisfied: fsspec in g:\\anaconda3\\envs\\aes\\lib\\site-packages (from torch->-r requirements.txt (line 1)) (2024.3.1)\n",
      "Requirement already satisfied: huggingface-hub<1.0,>=0.19.3 in g:\\anaconda3\\envs\\aes\\lib\\site-packages (from transformers->-r requirements.txt (line 2)) (0.20.1)\n",
      "Requirement already satisfied: packaging>=20.0 in g:\\anaconda3\\envs\\aes\\lib\\site-packages (from transformers->-r requirements.txt (line 2)) (23.2)\n",
      "Requirement already satisfied: pyyaml>=5.1 in g:\\anaconda3\\envs\\aes\\lib\\site-packages (from transformers->-r requirements.txt (line 2)) (6.0.1)\n",
      "Requirement already satisfied: regex!=2019.12.17 in g:\\anaconda3\\envs\\aes\\lib\\site-packages (from transformers->-r requirements.txt (line 2)) (2023.12.25)\n",
      "Requirement already satisfied: requests in g:\\anaconda3\\envs\\aes\\lib\\site-packages (from transformers->-r requirements.txt (line 2)) (2.31.0)\n",
      "Requirement already satisfied: tokenizers<0.19,>=0.14 in g:\\anaconda3\\envs\\aes\\lib\\site-packages (from transformers->-r requirements.txt (line 2)) (0.15.2)\n",
      "Requirement already satisfied: safetensors>=0.4.1 in g:\\anaconda3\\envs\\aes\\lib\\site-packages (from transformers->-r requirements.txt (line 2)) (0.4.1)\n",
      "Requirement already satisfied: colorama in g:\\anaconda3\\envs\\aes\\lib\\site-packages (from tqdm->-r requirements.txt (line 6)) (0.4.6)\n",
      "Requirement already satisfied: cairocffi in g:\\anaconda3\\envs\\aes\\lib\\site-packages (from cairosvg->-r requirements.txt (line 8)) (1.3.0)\n",
      "Requirement already satisfied: cssselect2 in g:\\anaconda3\\envs\\aes\\lib\\site-packages (from cairosvg->-r requirements.txt (line 8)) (0.7.0)\n",
      "Requirement already satisfied: defusedxml in g:\\anaconda3\\envs\\aes\\lib\\site-packages (from cairosvg->-r requirements.txt (line 8)) (0.7.1)\n",
      "Requirement already satisfied: tinycss2 in g:\\anaconda3\\envs\\aes\\lib\\site-packages (from cairosvg->-r requirements.txt (line 8)) (1.2.1)\n",
      "Requirement already satisfied: torchvision in g:\\anaconda3\\envs\\aes\\lib\\site-packages (from spandrel->-r requirements.txt (line 9)) (0.17.0+cu121)\n",
      "Requirement already satisfied: einops in g:\\anaconda3\\envs\\aes\\lib\\site-packages (from spandrel->-r requirements.txt (line 9)) (0.7.0)\n",
      "Requirement already satisfied: cffi>=1.1.0 in g:\\anaconda3\\envs\\aes\\lib\\site-packages (from cairocffi->cairosvg->-r requirements.txt (line 8)) (1.16.0)\n",
      "Requirement already satisfied: webencodings in g:\\anaconda3\\envs\\aes\\lib\\site-packages (from cssselect2->cairosvg->-r requirements.txt (line 8)) (0.5.1)\n",
      "Requirement already satisfied: MarkupSafe>=2.0 in g:\\anaconda3\\envs\\aes\\lib\\site-packages (from jinja2->torch->-r requirements.txt (line 1)) (2.1.5)\n",
      "Requirement already satisfied: charset-normalizer<4,>=2 in g:\\anaconda3\\envs\\aes\\lib\\site-packages (from requests->transformers->-r requirements.txt (line 2)) (3.3.2)\n",
      "Requirement already satisfied: idna<4,>=2.5 in g:\\anaconda3\\envs\\aes\\lib\\site-packages (from requests->transformers->-r requirements.txt (line 2)) (3.6)\n",
      "Requirement already satisfied: urllib3<3,>=1.21.1 in g:\\anaconda3\\envs\\aes\\lib\\site-packages (from requests->transformers->-r requirements.txt (line 2)) (2.2.1)\n",
      "Requirement already satisfied: certifi>=2017.4.17 in g:\\anaconda3\\envs\\aes\\lib\\site-packages (from requests->transformers->-r requirements.txt (line 2)) (2024.2.2)\n",
      "Requirement already satisfied: mpmath>=0.19 in g:\\anaconda3\\envs\\aes\\lib\\site-packages (from sympy->torch->-r requirements.txt (line 1)) (1.3.0)\n",
      "Requirement already satisfied: pycparser in g:\\anaconda3\\envs\\aes\\lib\\site-packages (from cffi>=1.1.0->cairocffi->cairosvg->-r requirements.txt (line 8)) (2.22)\n",
      "Note: you may need to restart the kernel to use updated packages.\n"
     ]
    },
    {
     "name": "stderr",
     "output_type": "stream",
     "text": [
      "WARNING: Ignoring invalid distribution - (g:\\anaconda3\\envs\\aes\\lib\\site-packages)\n",
      "WARNING: Ignoring invalid distribution -mpy (g:\\anaconda3\\envs\\aes\\lib\\site-packages)\n",
      "WARNING: Ignoring invalid distribution -mpy (g:\\anaconda3\\envs\\aes\\lib\\site-packages)\n",
      "WARNING: Ignoring invalid distribution -orch (g:\\anaconda3\\envs\\aes\\lib\\site-packages)\n",
      "WARNING: Ignoring invalid distribution -umpy (g:\\anaconda3\\envs\\aes\\lib\\site-packages)\n",
      "WARNING: Ignoring invalid distribution -ympy (g:\\anaconda3\\envs\\aes\\lib\\site-packages)\n",
      "WARNING: Ignoring invalid distribution - (g:\\anaconda3\\envs\\aes\\lib\\site-packages)\n",
      "WARNING: Ignoring invalid distribution -mpy (g:\\anaconda3\\envs\\aes\\lib\\site-packages)\n",
      "WARNING: Ignoring invalid distribution -mpy (g:\\anaconda3\\envs\\aes\\lib\\site-packages)\n",
      "WARNING: Ignoring invalid distribution -orch (g:\\anaconda3\\envs\\aes\\lib\\site-packages)\n",
      "WARNING: Ignoring invalid distribution -umpy (g:\\anaconda3\\envs\\aes\\lib\\site-packages)\n",
      "WARNING: Ignoring invalid distribution -ympy (g:\\anaconda3\\envs\\aes\\lib\\site-packages)\n"
     ]
    }
   ],
   "source": [
    "%pip install -r requirements.txt\n",
    "%pip install nest_asyncio"
   ]
  },
  {
   "cell_type": "code",
   "execution_count": 1,
   "metadata": {},
   "outputs": [
    {
     "name": "stdout",
     "output_type": "stream",
     "text": [
      "Not using LLM\n"
     ]
    },
    {
     "ename": "RuntimeError",
     "evalue": "asyncio.run() cannot be called from a running event loop",
     "output_type": "error",
     "traceback": [
      "\u001b[1;31m---------------------------------------------------------------------------\u001b[0m",
      "\u001b[1;31mRuntimeError\u001b[0m                              Traceback (most recent call last)",
      "Cell \u001b[1;32mIn[1], line 26\u001b[0m\n\u001b[0;32m     23\u001b[0m     logger\u001b[38;5;241m.\u001b[39minfo(\u001b[38;5;124m\"\u001b[39m\u001b[38;5;124mProcessing completed\u001b[39m\u001b[38;5;124m\"\u001b[39m)\n\u001b[0;32m     25\u001b[0m \u001b[38;5;28;01mif\u001b[39;00m \u001b[38;5;18m__name__\u001b[39m \u001b[38;5;241m==\u001b[39m \u001b[38;5;124m\"\u001b[39m\u001b[38;5;124m__main__\u001b[39m\u001b[38;5;124m\"\u001b[39m:\n\u001b[1;32m---> 26\u001b[0m     \u001b[43masyncio\u001b[49m\u001b[38;5;241;43m.\u001b[39;49m\u001b[43mrun\u001b[49m\u001b[43m(\u001b[49m\u001b[43mmain\u001b[49m\u001b[43m(\u001b[49m\u001b[43m)\u001b[49m\u001b[43m)\u001b[49m\n",
      "File \u001b[1;32mg:\\anaconda3\\envs\\aes\\lib\\asyncio\\runners.py:33\u001b[0m, in \u001b[0;36mrun\u001b[1;34m(main, debug)\u001b[0m\n\u001b[0;32m      9\u001b[0m \u001b[38;5;250m\u001b[39m\u001b[38;5;124;03m\"\"\"Execute the coroutine and return the result.\u001b[39;00m\n\u001b[0;32m     10\u001b[0m \n\u001b[0;32m     11\u001b[0m \u001b[38;5;124;03mThis function runs the passed coroutine, taking care of\u001b[39;00m\n\u001b[1;32m   (...)\u001b[0m\n\u001b[0;32m     30\u001b[0m \u001b[38;5;124;03m    asyncio.run(main())\u001b[39;00m\n\u001b[0;32m     31\u001b[0m \u001b[38;5;124;03m\"\"\"\u001b[39;00m\n\u001b[0;32m     32\u001b[0m \u001b[38;5;28;01mif\u001b[39;00m events\u001b[38;5;241m.\u001b[39m_get_running_loop() \u001b[38;5;129;01mis\u001b[39;00m \u001b[38;5;129;01mnot\u001b[39;00m \u001b[38;5;28;01mNone\u001b[39;00m:\n\u001b[1;32m---> 33\u001b[0m     \u001b[38;5;28;01mraise\u001b[39;00m \u001b[38;5;167;01mRuntimeError\u001b[39;00m(\n\u001b[0;32m     34\u001b[0m         \u001b[38;5;124m\"\u001b[39m\u001b[38;5;124masyncio.run() cannot be called from a running event loop\u001b[39m\u001b[38;5;124m\"\u001b[39m)\n\u001b[0;32m     36\u001b[0m \u001b[38;5;28;01mif\u001b[39;00m \u001b[38;5;129;01mnot\u001b[39;00m coroutines\u001b[38;5;241m.\u001b[39miscoroutine(main):\n\u001b[0;32m     37\u001b[0m     \u001b[38;5;28;01mraise\u001b[39;00m \u001b[38;5;167;01mValueError\u001b[39;00m(\u001b[38;5;124m\"\u001b[39m\u001b[38;5;124ma coroutine was expected, got \u001b[39m\u001b[38;5;132;01m{!r}\u001b[39;00m\u001b[38;5;124m\"\u001b[39m\u001b[38;5;241m.\u001b[39mformat(main))\n",
      "\u001b[1;31mRuntimeError\u001b[0m: asyncio.run() cannot be called from a running event loop"
     ]
    }
   ],
   "source": [
    "#use logger\n",
    "import logging\n",
    "import time\n",
    "import utils.config as config\n",
    "import utils.io_utils as io_utils\n",
    "import tracemalloc\n",
    "import asyncio\n",
    "import nest_asyncio\n",
    "\n",
    "# Apply nest_asyncio to allow nested event loops\n",
    "nest_asyncio.apply()\n",
    "\n",
    "tracemalloc.start()\n",
    "\n",
    "logging.basicConfig(level=logging.DEBUG, format='%(asctime)s - %(levelname)s - %(message)s')\n",
    "logger = logging.getLogger(__name__)\n",
    "\n",
    "async def main():\n",
    "    try:\n",
    "        start_time = time.time()\n",
    "        await io_utils.extract_EaglePack_and_process(config.input_path)\n",
    "        end_time = time.time()\n",
    "        logger.info(f\"Total processing time: {end_time - start_time:.2f} seconds\")\n",
    "    finally:\n",
    "        if config.use_LLM:\n",
    "            await config.llm_processor.stop()\n",
    "    logger.info(\"Processing completed\")\n",
    "\n",
    "if __name__ == \"__main__\":\n",
    "    asyncio.run(main())\n",
    "else:\n",
    "    # For environments like Jupyter Notebooks, where __name__ != \"__main__\"\n",
    "    asyncio.create_task(main())"
   ]
  }
 ],
 "metadata": {
  "kernelspec": {
   "display_name": "Python 3",
   "language": "python",
   "name": "python3"
  },
  "language_info": {
   "codemirror_mode": {
    "name": "ipython",
    "version": 3
   },
   "file_extension": ".py",
   "mimetype": "text/x-python",
   "name": "python",
   "nbconvert_exporter": "python",
   "pygments_lexer": "ipython3",
   "version": "3.10.13"
  }
 },
 "nbformat": 4,
 "nbformat_minor": 2
}
