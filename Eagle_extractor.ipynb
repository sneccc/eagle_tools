{
 "cells": [
  {
   "cell_type": "markdown",
   "metadata": {},
   "source": [
    "# Run"
   ]
  },
  {
   "cell_type": "code",
   "execution_count": null,
   "metadata": {},
   "outputs": [],
   "source": [
    "%pip install -r requirements.txt"
   ]
  },
  {
   "cell_type": "code",
   "execution_count": 1,
   "metadata": {},
   "outputs": [
    {
     "name": "stderr",
     "output_type": "stream",
     "text": [
      "ERROR:root:No traceback has been produced, nothing to debug.\n"
     ]
    },
    {
     "name": "stdout",
     "output_type": "stream",
     "text": [
      "Not using LLM\n"
     ]
    },
    {
     "name": "stderr",
     "output_type": "stream",
     "text": [
      "c:\\Users\\Daniel\\CodingProjects\\eagle_tools\\.venv\\lib\\site-packages\\torch\\functional.py:513: UserWarning: torch.meshgrid: in an upcoming release, it will be required to pass the indexing argument. (Triggered internally at C:\\actions-runner\\_work\\pytorch\\pytorch\\builder\\windows\\pytorch\\aten\\src\\ATen\\native\\TensorShape.cpp:3610.)\n",
      "  return _VF.meshgrid(tensors, **kwargs)  # type: ignore[attr-defined]\n",
      "Images Queued: 100%|██████████| 164/164 [00:03<00:00, 44.83it/s]\n"
     ]
    },
    {
     "name": "stdout",
     "output_type": "stream",
     "text": [
      "Total processing time: 4.34 seconds\n",
      "Processing completed\n"
     ]
    }
   ],
   "source": [
    "%load_ext autoreload\n",
    "%reload_ext autoreload\n",
    "%debug\n",
    "#use logger\n",
    "import logging\n",
    "import time\n",
    "import utils.config as config\n",
    "import utils.io_utils as io_utils\n",
    "if __name__ == \"__main__\":\n",
    "    try:\n",
    "        #logging.basicConfig(level=logging.DEBUG)\n",
    "        start_time = time.time()\n",
    "        io_utils.extract_EaglePack_and_process(config.input_path)\n",
    "        end_time = time.time()\n",
    "        print(f\"Total processing time: {end_time - start_time:.2f} seconds\")\n",
    "    finally:\n",
    "        if config.use_LLM:\n",
    "            config.llm_processor.stop()\n",
    "    print(\"Processing completed\")"
   ]
  },
  {
   "cell_type": "markdown",
   "metadata": {},
   "source": [
    "# Pixel Art Stuff"
   ]
  },
  {
   "cell_type": "code",
   "execution_count": null,
   "metadata": {},
   "outputs": [],
   "source": [
    "import os\n",
    "from PIL import Image\n",
    "\n",
    "def resize_images(input_folder, output_folder, target_size):\n",
    "    # Create output folder if it doesn't exist\n",
    "    if not os.path.exists(output_folder):\n",
    "        os.makedirs(output_folder)\n",
    "\n",
    "    # Iterate through all files in the input folder\n",
    "    for filename in os.listdir(input_folder):\n",
    "        if filename.lower().endswith(('.png', '.jpg', '.jpeg', '.gif', '.bmp')):\n",
    "            input_path = os.path.join(input_folder, filename)\n",
    "            output_path = os.path.join(output_folder, filename)\n",
    "\n",
    "            with Image.open(input_path) as img:\n",
    "                # Resize the image using nearest neighbor interpolation\n",
    "                resized_img = img.resize(target_size, Image.NEAREST)\n",
    "                \n",
    "                # Save the resized image\n",
    "                resized_img.save(output_path)\n",
    "            \n",
    "            print(f\"Resized {filename}\")\n",
    "\n",
    "\n",
    "\n",
    "\n",
    "# Set these variables\n",
    "input_folder = r\"P:\\downloads\\ezgif-7-da110e1150-png-273x273-sprite-png\"\n",
    "output_folder = os.path.join(input_folder, \"resized\")\n",
    "target_size = (64, 64)  # Set your desired size here (width, height)\n",
    "\n",
    "# Run the resize function\n",
    "resize_images(input_folder, output_folder, target_size)"
   ]
  }
 ],
 "metadata": {
  "kernelspec": {
   "display_name": "Python 3",
   "language": "python",
   "name": "python3"
  },
  "language_info": {
   "codemirror_mode": {
    "name": "ipython",
    "version": 3
   },
   "file_extension": ".py",
   "mimetype": "text/x-python",
   "name": "python",
   "nbconvert_exporter": "python",
   "pygments_lexer": "ipython3",
   "version": "3.10.11"
  }
 },
 "nbformat": 4,
 "nbformat_minor": 2
}
