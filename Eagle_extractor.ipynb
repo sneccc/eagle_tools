{
 "cells": [
  {
   "cell_type": "code",
   "execution_count": null,
   "metadata": {},
   "outputs": [],
   "source": [
    "%pip install -r requirements.txt"
   ]
  },
  {
   "cell_type": "code",
   "execution_count": 1,
   "metadata": {},
   "outputs": [
    {
     "name": "stdout",
     "output_type": "stream",
     "text": [
      "Not using LLM\n"
     ]
    },
    {
     "name": "stderr",
     "output_type": "stream",
     "text": [
      "Images Queued: 100%|██████████| 107/107 [00:00<00:00, 113.97it/s]\n"
     ]
    },
    {
     "name": "stdout",
     "output_type": "stream",
     "text": [
      "Total processing time: 125.95 seconds\n",
      "Processing completed\n"
     ]
    }
   ],
   "source": [
    "#use logger\n",
    "import logging\n",
    "import time\n",
    "import utils.config as config\n",
    "import utils.io_utils as io_utils\n",
    "if __name__ == \"__main__\":\n",
    "    try:\n",
    "        #logging.basicConfig(level=logging.DEBUG)\n",
    "        start_time = time.time()\n",
    "        io_utils.extract_EaglePack_and_process(config.input_path)\n",
    "        end_time = time.time()\n",
    "        print(f\"Total processing time: {end_time - start_time:.2f} seconds\")\n",
    "    finally:\n",
    "        if config.use_LLM:\n",
    "            config.llm_processor.stop()\n",
    "    print(\"Processing completed\")"
   ]
  }
 ],
 "metadata": {
  "kernelspec": {
   "display_name": "Python 3",
   "language": "python",
   "name": "python3"
  },
  "language_info": {
   "codemirror_mode": {
    "name": "ipython",
    "version": 3
   },
   "file_extension": ".py",
   "mimetype": "text/x-python",
   "name": "python",
   "nbconvert_exporter": "python",
   "pygments_lexer": "ipython3",
   "version": "3.10.13"
  }
 },
 "nbformat": 4,
 "nbformat_minor": 2
}
