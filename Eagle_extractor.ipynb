{
 "cells": [
  {
   "cell_type": "code",
   "execution_count": null,
   "metadata": {},
   "outputs": [],
   "source": [
    "%pip install -r requirements.txt"
   ]
  },
  {
   "cell_type": "code",
   "execution_count": 1,
   "metadata": {},
   "outputs": [
    {
     "name": "stdout",
     "output_type": "stream",
     "text": [
      "Not using LLM\n"
     ]
    },
    {
     "name": "stderr",
     "output_type": "stream",
     "text": [
      "DEBUG:asyncio:Using selector: SelectSelector\n",
      "\n",
      "Total Images Processed:   0%|          | 0/5336 [00:00<?, ?it/s]\n",
      "\n",
      "g:\\anaconda3\\envs\\aes\\lib\\site-packages\\tqdm\\std.py:636: TqdmWarning: clamping frac to range [0, 1]\n",
      "Total Images Processed:   0%|          | 1/5336 [00:00<24:39,  3.61it/s]DEBUG:utils.upscale_API:Batch tensor shape: torch.Size([1, 3, 694, 694])\n",
      "\n",
      "Total Images Processed:   0%|          | 25/5336 [00:00<01:16, 69.72it/s]\n",
      "Total Images Processed:   1%|          | 49/5336 [00:00<00:51, 102.77it/s]\n",
      "Total Images Processed:   1%|▏         | 73/5336 [00:00<00:44, 119.56it/s]\n",
      "Total Images Processed:   2%|▏         | 97/5336 [00:00<00:39, 133.32it/s]\n",
      "Total Images Processed:   2%|▏         | 121/5336 [00:01<00:35, 145.72it/s]\n",
      "Total Images Processed:   3%|▎         | 145/5336 [00:01<00:36, 143.26it/s]\n",
      "Total Images Processed:   3%|▎         | 160/5336 [00:01<00:35, 144.42it/s]\n",
      "Total Images Processed:   3%|▎         | 181/5336 [00:01<00:37, 136.56it/s]\n",
      "Total Images Processed:   4%|▍         | 205/5336 [00:01<00:35, 143.85it/s]\n",
      "Total Images Processed:   4%|▍         | 229/5336 [00:01<00:33, 151.09it/s]\n",
      "Total Images Processed:   5%|▍         | 253/5336 [00:01<00:33, 153.90it/s]DEBUG:utils.upscale_API:Output batch tensor shape: torch.Size([1, 3, 1388, 1388])\n",
      "INFO:utils.upscale_API:Saved upscaled image to: P:\\datasets\\stickers\\base\\img_000.png\n",
      "\n",
      "Total Images Processed:   5%|▌         | 277/5336 [00:02<00:32, 154.26it/s]DEBUG:utils.upscale_API:Batch tensor shape: torch.Size([1, 3, 694, 694])\n",
      "\n",
      "Total Images Processed:   6%|▌         | 301/5336 [00:02<00:32, 153.17it/s]\n",
      "Total Images Processed:   6%|▌         | 325/5336 [00:02<00:32, 156.06it/s]\n",
      "Total Images Processed:   7%|▋         | 349/5336 [00:02<00:31, 159.42it/s]\n",
      "Total Images Processed:   7%|▋         | 372/5336 [00:02<00:28, 172.09it/s]\n",
      "Total Images Processed:   7%|▋         | 390/5336 [00:02<00:32, 153.18it/s]\n",
      "Total Images Processed:   8%|▊         | 410/5336 [00:02<00:32, 151.18it/s]\n",
      "Total Images Processed:   8%|▊         | 434/5336 [00:03<00:31, 156.84it/s]\n",
      "Total Images Processed:   8%|▊         | 450/5336 [00:03<00:31, 153.27it/s]\n",
      "\n",
      "Total Images Processed:   9%|▉         | 470/5336 [00:03<00:33, 146.82it/s]pscale_API:Output batch tensor shape: torch.Size([1, 3, 1388, 1388])\u001b[AINFO:utils.upscale_API:Saved upscaled image to: P:\\datasets\\stickers\\base\\img_006.png\n",
      "DEBUG:utils.upscale_API:Batch tensor shape: torch.Size([1, 3, 694, 694])\n",
      "\n",
      "Total Images Processed:   9%|▉         | 494/5336 [00:03<00:33, 144.47it/s]\n",
      "Total Images Processed:  10%|▉         | 518/5336 [00:03<00:31, 151.20it/s]\n",
      "Total Images Processed:  10%|█         | 542/5336 [00:03<00:31, 152.62it/s]\n",
      "Total Images Processed:  11%|█         | 566/5336 [00:03<00:30, 154.72it/s]\n",
      "Total Images Processed:  11%|█         | 590/5336 [00:04<00:30, 155.08it/s]\n",
      "Total Images Processed:  11%|█▏        | 607/5336 [00:04<00:30, 154.04it/s]\n",
      "Total Images Processed:  12%|█▏        | 626/5336 [00:04<00:33, 142.59it/s]\n",
      "Total Images Processed:  12%|█▏        | 650/5336 [00:04<00:31, 146.97it/s]DEBUG:utils.upscale_API:Output batch tensor shape: torch.Size([1, 3, 1388, 1388])\n",
      "\n",
      "\n",
      "INFO:utils.upscale_API:Saved upscaled image to: P:\\datasets\\stickers\\base\\img_005.png\u001b[ADEBUG:utils.upscale_API:Batch tensor shape: torch.Size([1, 3, 694, 694])\n",
      "Total Images Processed:  13%|█▎        | 674/5336 [00:04<00:30, 150.91it/s]\n",
      "Total Images Processed:  13%|█▎        | 691/5336 [00:04<00:29, 154.88it/s]\n",
      "Total Images Processed:  13%|█▎        | 710/5336 [00:04<00:31, 146.67it/s]\n",
      "Total Images Processed:  14%|█▍        | 734/5336 [00:05<00:30, 150.66it/s]\n",
      "Total Images Processed:  14%|█▍        | 758/5336 [00:05<00:29, 155.87it/s]\n",
      "Total Images Processed:  15%|█▍        | 782/5336 [00:05<00:28, 158.69it/s]\n",
      "Total Images Processed:  15%|█▌        | 806/5336 [00:05<00:27, 163.52it/s]\n",
      "Total Images Processed:  16%|█▌        | 830/5336 [00:05<00:27, 164.44it/s]\n",
      "Total Images Processed:  16%|█▌        | 847/5336 [00:05<00:27, 162.87it/s]DEBUG:utils.upscale_API:Output batch tensor shape: torch.Size([1, 3, 1388, 1388])\n",
      "\n",
      "\u001b[AINFO:utils.upscale_API:Saved upscaled image to: P:\\datasets\\stickers\\base\\img_003.png\n",
      "Total Images Processed:  16%|█▌        | 866/5336 [00:05<00:30, 148.17it/s]DEBUG:utils.upscale_API:Batch tensor shape: torch.Size([1, 3, 694, 694])\n",
      "\n",
      "Total Images Processed:  17%|█▋        | 890/5336 [00:06<00:30, 145.64it/s]\n",
      "Total Images Processed:  17%|█▋        | 914/5336 [00:06<00:29, 149.04it/s]\n",
      "Total Images Processed:  18%|█▊        | 938/5336 [00:06<00:28, 153.25it/s]\n",
      "Total Images Processed:  18%|█▊        | 962/5336 [00:06<00:28, 151.43it/s]\n",
      "Total Images Processed:  18%|█▊        | 986/5336 [00:06<00:28, 151.77it/s]DEBUG:utils.upscale_API:Output batch tensor shape: torch.Size([1, 3, 1388, 1388])\n",
      "INFO:utils.upscale_API:Saved upscaled image to: P:\\datasets\\stickers\\base\\img_004.png\n",
      "\n",
      "Total Images Processed:  19%|█▉        | 1006/5336 [00:07<00:47, 91.40it/s]DEBUG:utils.upscale_API:Batch tensor shape: torch.Size([1, 3, 694, 694])\n",
      "DEBUG:utils.upscale_API:Output batch tensor shape: torch.Size([1, 3, 1388, 1388])\n",
      "INFO:utils.upscale_API:Saved upscaled image to: P:\\datasets\\stickers\\base\\img_001.png\n",
      "DEBUG:utils.upscale_API:Batch tensor shape: torch.Size([1, 3, 694, 694])\n",
      "DEBUG:utils.upscale_API:Output batch tensor shape: torch.Size([1, 3, 1388, 1388])\n",
      "INFO:utils.upscale_API:Saved upscaled image to: P:\\datasets\\stickers\\base\\img_008.png\n",
      "DEBUG:utils.upscale_API:Batch tensor shape: torch.Size([1, 3, 694, 694])\n",
      "DEBUG:utils.upscale_API:Output batch tensor shape: torch.Size([1, 3, 1388, 1388])\n",
      "INFO:utils.upscale_API:Saved upscaled image to: P:\\datasets\\stickers\\base\\img_007.png\n",
      "DEBUG:utils.upscale_API:Batch tensor shape: torch.Size([1, 3, 694, 694])\n",
      "DEBUG:utils.upscale_API:Output batch tensor shape: torch.Size([1, 3, 1388, 1388])\n",
      "INFO:utils.upscale_API:Saved upscaled image to: P:\\datasets\\stickers\\base\\img_002.png\n",
      "DEBUG:utils.upscale_API:Batch tensor shape: torch.Size([1, 3, 694, 694])\n",
      "DEBUG:utils.upscale_API:Output batch tensor shape: torch.Size([1, 3, 1388, 1388])\n",
      "INFO:utils.upscale_API:Saved upscaled image to: P:\\datasets\\stickers\\base\\img_009.png\n",
      "DEBUG:utils.upscale_API:Batch tensor shape: torch.Size([1, 3, 694, 694])\n",
      "DEBUG:utils.upscale_API:Output batch tensor shape: torch.Size([1, 3, 1388, 1388])\n",
      "INFO:utils.upscale_API:Saved upscaled image to: P:\\datasets\\stickers\\base\\img_010.png\n",
      "DEBUG:utils.upscale_API:Batch tensor shape: torch.Size([1, 3, 694, 694])\n",
      "DEBUG:utils.upscale_API:Output batch tensor shape: torch.Size([1, 3, 1388, 1388])\n",
      "INFO:utils.upscale_API:Saved upscaled image to: P:\\datasets\\stickers\\base\\img_011.png\n",
      "DEBUG:utils.upscale_API:Batch tensor shape: torch.Size([1, 3, 694, 694])\n"
     ]
    }
   ],
   "source": [
    "#use logger\n",
    "import logging\n",
    "import time\n",
    "import utils.config as config\n",
    "import utils.io_utils as io_utils\n",
    "if __name__ == \"__main__\":\n",
    "    try:\n",
    "        #logging.basicConfig(level=logging.DEBUG)\n",
    "        start_time = time.time()\n",
    "        io_utils.extract_EaglePack_and_process(config.input_path)\n",
    "        end_time = time.time()\n",
    "        print(f\"Total processing time: {end_time - start_time:.2f} seconds\")\n",
    "    finally:\n",
    "        if config.use_LLM:\n",
    "            config.llm_processor.stop()\n",
    "    print(\"Processing completed\")"
   ]
  }
 ],
 "metadata": {
  "kernelspec": {
   "display_name": "Python 3",
   "language": "python",
   "name": "python3"
  },
  "language_info": {
   "codemirror_mode": {
    "name": "ipython",
    "version": 3
   },
   "file_extension": ".py",
   "mimetype": "text/x-python",
   "name": "python",
   "nbconvert_exporter": "python",
   "pygments_lexer": "ipython3",
   "version": "3.10.13"
  }
 },
 "nbformat": 4,
 "nbformat_minor": 2
}
