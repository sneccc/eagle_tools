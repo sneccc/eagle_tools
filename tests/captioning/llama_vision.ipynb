{
 "cells": [
  {
   "cell_type": "code",
   "execution_count": null,
   "metadata": {},
   "outputs": [],
   "source": [
    "!uv pip install accelerate transformers -U"
   ]
  },
  {
   "cell_type": "code",
   "execution_count": null,
   "metadata": {},
   "outputs": [],
   "source": [
    "import requests\n",
    "import time\n",
    "import torch\n",
    "from PIL import Image\n",
    "from transformers import MllamaForConditionalGeneration, AutoProcessor\n",
    "\n",
    "\n",
    "path = \"../input/zebra_on_tree.jpg\"\n",
    "image = Image.open(path)\n",
    "\n",
    "model_id = \"unsloth/Llama-3.2-11B-Vision-Instruct\"\n",
    "\n",
    "model = MllamaForConditionalGeneration.from_pretrained(\n",
    "    model_id,\n",
    "    torch_dtype=torch.bfloat16,\n",
    "    device_map=\"auto\",\n",
    ")\n",
    "processor = AutoProcessor.from_pretrained(model_id)\n",
    "\n",
    "prompt = \"Fill the '...' with the correct values in json format, if you don't know the exact value, use 'None', SFW only:\"\n",
    "prompt += \"\"\"\n",
    "{\n",
    "    \"long prompt\": \"...\",# 2-3 sentences\n",
    "    \"short description\": \"...\",\n",
    "    \"background view description\": \"...\",\n",
    "    \"objects\": [\"...\", \"...\"],\n",
    "    \"principal colors\": [\"...\", \"...\"],\n",
    "    \"medium\": \"...\",# photography, painting, etc\n",
    "    \"mood\": \"...\",# calm, dramatic, etc\n",
    "    \"overall rating\": \"...\",# 1-10\n",
    "}\n",
    "\"\"\"\n",
    "\n",
    "\n",
    "messages = [\n",
    "    {\"role\": \"user\", \"content\": [\n",
    "        {\"type\": \"image\"},\n",
    "        {\"type\": \"text\", \"text\": f\"{prompt}\"}\n",
    "    ]}\n",
    "]\n",
    "input_text = processor.apply_chat_template(messages, add_generation_prompt=True)\n",
    "\n",
    "for i in range(0,4):\n",
    "    start_perf = time.perf_counter()\n",
    "    inputs = processor(image, input_text, return_tensors=\"pt\").to(model.device)\n",
    "\n",
    "    output = model.generate(**inputs, max_new_tokens=350)\n",
    "    #print(path)\n",
    "    print(processor.decode(output[0]))\n",
    "    stop_perf = time.perf_counter()\n",
    "    print(f\"      ** elapsed: {stop_perf - start_perf:.2f}\")"
   ]
  },
  {
   "cell_type": "code",
   "execution_count": null,
   "metadata": {},
   "outputs": [],
   "source": []
  }
 ],
 "metadata": {
  "kernelspec": {
   "display_name": ".venv",
   "language": "python",
   "name": "python3"
  },
  "language_info": {
   "codemirror_mode": {
    "name": "ipython",
    "version": 3
   },
   "file_extension": ".py",
   "mimetype": "text/x-python",
   "name": "python",
   "nbconvert_exporter": "python",
   "pygments_lexer": "ipython3",
   "version": "3.10.11"
  }
 },
 "nbformat": 4,
 "nbformat_minor": 2
}
