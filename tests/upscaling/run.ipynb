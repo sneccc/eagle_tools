{
 "cells": [
  {
   "cell_type": "code",
   "execution_count": null,
   "metadata": {},
   "outputs": [],
   "source": [
    "#this venv locaiton\n",
    "import sys\n",
    "print(sys.prefix)\n",
    "\n",
    "#%pip install -r ../requirements.txt\n",
    "#%pip show spandrel_extra_arches"
   ]
  },
  {
   "cell_type": "code",
   "execution_count": null,
   "metadata": {},
   "outputs": [],
   "source": [
    "#%pip install -r ../requirements.txt\n",
    "#%pip show spandrel_extra_arches\n",
    "\n",
    "\n",
    "#import spandrel_extra_arches\n",
    "#help(spandrel_extra_arches)\n",
    "#print(spandrel_extra_arches.__file__)"
   ]
  },
  {
   "cell_type": "code",
   "execution_count": 1,
   "metadata": {},
   "outputs": [
    {
     "data": {
      "text/plain": [
       "[ArchSupport(architecture=<spandrel_extra_arches.architectures.SRFormer.SRFormerArch object at 0x000001CDDC09B1C0>, detect=<bound method Architecture.detect of <spandrel_extra_arches.architectures.SRFormer.SRFormerArch object at 0x000001CDDC09B1C0>>, before=()),\n",
       " ArchSupport(architecture=<spandrel_extra_arches.architectures.CodeFormer.CodeFormerArch object at 0x000001CD98A47CA0>, detect=<bound method Architecture.detect of <spandrel_extra_arches.architectures.CodeFormer.CodeFormerArch object at 0x000001CD98A47CA0>>, before=()),\n",
       " ArchSupport(architecture=<spandrel_extra_arches.architectures.MAT.MATArch object at 0x000001CD98A84040>, detect=<bound method Architecture.detect of <spandrel_extra_arches.architectures.MAT.MATArch object at 0x000001CD98A84040>>, before=()),\n",
       " ArchSupport(architecture=<spandrel_extra_arches.architectures.DDColor.DDColorArch object at 0x000001CD98A84160>, detect=<bound method Architecture.detect of <spandrel_extra_arches.architectures.DDColor.DDColorArch object at 0x000001CD98A84160>>, before=()),\n",
       " ArchSupport(architecture=<spandrel_extra_arches.architectures.AdaCode.AdaCodeArch object at 0x000001CD98A84280>, detect=<bound method Architecture.detect of <spandrel_extra_arches.architectures.AdaCode.AdaCodeArch object at 0x000001CD98A84280>>, before=()),\n",
       " ArchSupport(architecture=<spandrel_extra_arches.architectures.FeMaSR.FeMaSRArch object at 0x000001CD98A843A0>, detect=<bound method Architecture.detect of <spandrel_extra_arches.architectures.FeMaSR.FeMaSRArch object at 0x000001CD98A843A0>>, before=()),\n",
       " ArchSupport(architecture=<spandrel_extra_arches.architectures.M3SNet.M3SNetArch object at 0x000001CD98A844C0>, detect=<bound method Architecture.detect of <spandrel_extra_arches.architectures.M3SNet.M3SNetArch object at 0x000001CD98A844C0>>, before=()),\n",
       " ArchSupport(architecture=<spandrel_extra_arches.architectures.Restormer.RestormerArch object at 0x000001CD98A845E0>, detect=<bound method Architecture.detect of <spandrel_extra_arches.architectures.Restormer.RestormerArch object at 0x000001CD98A845E0>>, before=()),\n",
       " ArchSupport(architecture=<spandrel_extra_arches.architectures.MPRNet.MPRNetArch object at 0x000001CD98A84700>, detect=<bound method Architecture.detect of <spandrel_extra_arches.architectures.MPRNet.MPRNetArch object at 0x000001CD98A84700>>, before=()),\n",
       " ArchSupport(architecture=<spandrel_extra_arches.architectures.MIRNet2.MIRNet2Arch object at 0x000001CD98A84820>, detect=<bound method Architecture.detect of <spandrel_extra_arches.architectures.MIRNet2.MIRNet2Arch object at 0x000001CD98A84820>>, before=())]"
      ]
     },
     "execution_count": 1,
     "metadata": {},
     "output_type": "execute_result"
    }
   ],
   "source": [
    "import spandrel_extra_arches\n",
    "spandrel_extra_arches.install()\n"
   ]
  },
  {
   "cell_type": "code",
   "execution_count": null,
   "metadata": {},
   "outputs": [],
   "source": [
    "%run upscaling.py"
   ]
  },
  {
   "cell_type": "code",
   "execution_count": null,
   "metadata": {},
   "outputs": [],
   "source": [
    "%run upscaling_batch.py"
   ]
  }
 ],
 "metadata": {
  "kernelspec": {
   "display_name": "Python 3",
   "language": "python",
   "name": "python3"
  },
  "language_info": {
   "codemirror_mode": {
    "name": "ipython",
    "version": 3
   },
   "file_extension": ".py",
   "mimetype": "text/x-python",
   "name": "python",
   "nbconvert_exporter": "python",
   "pygments_lexer": "ipython3",
   "version": "3.10.11"
  }
 },
 "nbformat": 4,
 "nbformat_minor": 2
}
