{
 "cells": [
  {
   "cell_type": "code",
   "execution_count": null,
   "metadata": {},
   "outputs": [],
   "source": [
    "#%pip install -r ../requirements.txt\n",
    "#%pip show spandrel_extra_arches\n",
    "import spandrel_extra_arches\n",
    "print(spandrel_extra_arches.__file__)"
   ]
  },
  {
   "cell_type": "code",
   "execution_count": 1,
   "metadata": {},
   "outputs": [
    {
     "name": "stdout",
     "output_type": "stream",
     "text": [
      "Not using LLM\n",
      "Attempting to load image from: c:\\Users\\Daniel\\CodingProjects\\eagle_tools\\tests\\upscaling\\..\\input\\vector_white.png\n",
      "Attempting to load image from: c:\\Users\\Daniel\\CodingProjects\\eagle_tools\\tests\\upscaling\\..\\input\\vector_black.png\n",
      "Batch tensor shape: torch.Size([2, 3, 512, 512])\n",
      "Output batch tensor shape: torch.Size([2, 3, 1024, 1024])\n",
      "Saved upscaled image to: ../output/vector_white_upscaled.png\n",
      "Saved upscaled image to: ../output/vector_black_upscaled.png\n"
     ]
    }
   ],
   "source": [
    "%run upscaling_batch.py"
   ]
  }
 ],
 "metadata": {
  "kernelspec": {
   "display_name": "Python 3",
   "language": "python",
   "name": "python3"
  },
  "language_info": {
   "codemirror_mode": {
    "name": "ipython",
    "version": 3
   },
   "file_extension": ".py",
   "mimetype": "text/x-python",
   "name": "python",
   "nbconvert_exporter": "python",
   "pygments_lexer": "ipython3",
   "version": "3.10.13"
  }
 },
 "nbformat": 4,
 "nbformat_minor": 2
}
